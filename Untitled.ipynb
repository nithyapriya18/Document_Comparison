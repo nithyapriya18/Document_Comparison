{
 "cells": [
  {
   "cell_type": "code",
   "execution_count": 9,
   "metadata": {},
   "outputs": [
    {
     "name": "stdout",
     "output_type": "stream",
     "text": [
      "['__builtins__', '__cached__', '__doc__', '__file__', '__loader__', '__name__', '__package__', '__path__', '__spec__', '__version__', '_matutils', 'corpora', 'interfaces', 'logger', 'logging', 'matutils', 'models', 'parsing', 'similarities', 'topic_coherence', 'utils']\n"
     ]
    }
   ],
   "source": [
    "import gensim\n",
    "print(dir(gensim))"
   ]
  },
  {
   "cell_type": "code",
   "execution_count": 10,
   "metadata": {},
   "outputs": [
    {
     "name": "stderr",
     "output_type": "stream",
     "text": [
      "[nltk_data] Downloading package punkt to\n",
      "[nltk_data]     C:\\Users\\VEERANI2\\AppData\\Roaming\\nltk_data...\n",
      "[nltk_data]   Package punkt is already up-to-date!\n"
     ]
    },
    {
     "data": {
      "text/plain": [
       "True"
      ]
     },
     "execution_count": 10,
     "metadata": {},
     "output_type": "execute_result"
    }
   ],
   "source": [
    "import nltk\n",
    "nltk.download('punkt')"
   ]
  },
  {
   "cell_type": "code",
   "execution_count": 11,
   "metadata": {},
   "outputs": [],
   "source": [
    "from docx import Document"
   ]
  },
  {
   "cell_type": "code",
   "execution_count": 38,
   "metadata": {},
   "outputs": [],
   "source": [
    "document = Document('apple.docx')\n",
    "list1=list()\n",
    "\n",
    "for p in document.paragraphs:\n",
    "    list1.append(p.text)\n"
   ]
  },
  {
   "cell_type": "code",
   "execution_count": 39,
   "metadata": {},
   "outputs": [
    {
     "data": {
      "text/plain": [
       "<docx.document.Document at 0x1edd57c9f48>"
      ]
     },
     "execution_count": 39,
     "metadata": {},
     "output_type": "execute_result"
    }
   ],
   "source": [
    "document\n"
   ]
  },
  {
   "cell_type": "code",
   "execution_count": 41,
   "metadata": {},
   "outputs": [],
   "source": [
    "list2=list()\n",
    "for val in list1:\n",
    "    tokens = nltk.sent_tokenize(val)\n",
    "    for t in tokens:\n",
    "        list2.append(t)"
   ]
  },
  {
   "cell_type": "code",
   "execution_count": 42,
   "metadata": {},
   "outputs": [
    {
     "data": {
      "text/plain": [
       "['An apple is an edible fruit produced by an apple tree (Malus domestica).',\n",
       " 'Apple trees are cultivated worldwide and are the most widely grown species in the genus Malus.',\n",
       " 'The tree originated in Central Asia, where its wild ancestor, Malus sieversii, is still found today.',\n",
       " 'Apples have been grown for thousands of years in Asia and Europe and were brought to North America by European colonists.',\n",
       " 'Apples have religious and mythological significance in many cultures, including Norse, Greek, and European Christian tradition.',\n",
       " 'Apples grown from seed tend to be very different from those of the parents, and the resultant fruit frequently lack desired characteristics.',\n",
       " 'Generally then, apple cultivars are propagated by clonal grafting onto rootstocks.',\n",
       " 'Apple trees grown without rootstocks tend to be larger and much slower to fruit after planting.',\n",
       " 'Rootstocks are used to control speed of growth and the size of the resulting tree allowing for easier harvesting.',\n",
       " 'There are more than 7,500 known cultivars of apples.',\n",
       " 'Different cultivars are bred for various tastes and use, including cooking, eating raw and cider production.',\n",
       " 'Trees and fruit are prone to a number of fungal, bacterial and pest problems, which can be controlled by a number of organic and non-organic means.',\n",
       " \"In 2010, the fruit's genome was sequenced as part of research on disease control and selective breeding in apple production.\",\n",
       " 'The apple is a deciduous tree, generally standing 2 to 4.5 m (6 to 15 ft) tall in cultivation and up to 9 m (30 ft) in the wild.',\n",
       " 'When cultivated, the size, shape and branch density are determined by rootstock selection and trimming method.',\n",
       " 'The leaves are alternately arranged dark green-colored simple ovals with serrated margins and slightly downy undersides.',\n",
       " '[5]',\n",
       " 'Blossoms are produced in spring simultaneously with the budding of the leaves and are produced on spurs and some long shoots.',\n",
       " 'The 3 to 4 cm (1 to 1+1⁄2 in) flowers are white with a pink tinge that gradually fades, five petaled, with an inflorescence consisting of a cyme with 4–6 flowers.',\n",
       " 'The central flower of the inflorescence is called the \"king bloom\"; it opens first and can develop a larger fruit.',\n",
       " '[5][6]',\n",
       " 'The fruit is a pome that matures in late summer or autumn, and cultivars exist in a wide range of sizes.',\n",
       " 'Commercial growers aim to produce an apple that is 7 to 8.5 cm (2+3⁄4 to 3+1⁄4 in) in diameter, due to market preference.',\n",
       " 'Some consumers, especially those in Japan, prefer a larger apple, while apples below 5.5 cm (2+1⁄4 in) are generally used for making juice and have little fresh market value.',\n",
       " 'The skin of ripe apples is generally red, yellow, green, pink, or russetted, though many bi- or tri-colored cultivars may be found.',\n",
       " '[7] The skin may also be wholly or partly russeted i.e.',\n",
       " 'rough and brown.',\n",
       " 'The skin is covered in a protective layer of epicuticular wax.',\n",
       " '[8] The exocarp (flesh) is generally pale yellowish-white,[7] though pink, yellow or green exocarps also occur.',\n",
       " '[9]']"
      ]
     },
     "execution_count": 42,
     "metadata": {},
     "output_type": "execute_result"
    }
   ],
   "source": [
    "list2\n"
   ]
  },
  {
   "cell_type": "code",
   "execution_count": 17,
   "metadata": {},
   "outputs": [
    {
     "name": "stdout",
     "output_type": "stream",
     "text": [
      "[['an', 'apple', 'is', 'an', 'edible', 'fruit', 'produced', 'by', 'an', 'apple', 'tree', '(', 'malus', 'domestica', ')', '.'], ['apple', 'trees', 'are', 'cultivated', 'worldwide', 'and', 'are', 'the', 'most', 'widely', 'grown', 'species', 'in', 'the', 'genus', 'malus', '.'], ['the', 'tree', 'originated', 'in', 'central', 'asia', ',', 'where', 'its', 'wild', 'ancestor', ',', 'malus', 'sieversii', ',', 'is', 'still', 'found', 'today', '.'], ['apples', 'have', 'been', 'grown', 'for', 'thousands', 'of', 'years', 'in', 'asia', 'and', 'europe', 'and', 'were', 'brought', 'to', 'north', 'america', 'by', 'european', 'colonists', '.'], ['apples', 'have', 'religious', 'and', 'mythological', 'significance', 'in', 'many', 'cultures', ',', 'including', 'norse', ',', 'greek', ',', 'and', 'european', 'christian', 'tradition', '.'], ['apples', 'grown', 'from', 'seed', 'tend', 'to', 'be', 'very', 'different', 'from', 'those', 'of', 'the', 'parents', ',', 'and', 'the', 'resultant', 'fruit', 'frequently', 'lack', 'desired', 'characteristics', '.'], ['generally', 'then', ',', 'apple', 'cultivars', 'are', 'propagated', 'by', 'clonal', 'grafting', 'onto', 'rootstocks', '.'], ['apple', 'trees', 'grown', 'without', 'rootstocks', 'tend', 'to', 'be', 'larger', 'and', 'much', 'slower', 'to', 'fruit', 'after', 'planting', '.'], ['rootstocks', 'are', 'used', 'to', 'control', 'speed', 'of', 'growth', 'and', 'the', 'size', 'of', 'the', 'resulting', 'tree', 'allowing', 'for', 'easier', 'harvesting', '.'], ['there', 'are', 'more', 'than', '7,500', 'known', 'cultivars', 'of', 'apples', '.'], ['different', 'cultivars', 'are', 'bred', 'for', 'various', 'tastes', 'and', 'use', ',', 'including', 'cooking', ',', 'eating', 'raw', 'and', 'cider', 'production', '.'], ['trees', 'and', 'fruit', 'are', 'prone', 'to', 'a', 'number', 'of', 'fungal', ',', 'bacterial', 'and', 'pest', 'problems', ',', 'which', 'can', 'be', 'controlled', 'by', 'a', 'number', 'of', 'organic', 'and', 'non-organic', 'means', '.'], ['in', '2010', ',', 'the', 'fruit', \"'s\", 'genome', 'was', 'sequenced', 'as', 'part', 'of', 'research', 'on', 'disease', 'control', 'and', 'selective', 'breeding', 'in', 'apple', 'production', '.'], ['the', 'apple', 'is', 'a', 'deciduous', 'tree', ',', 'generally', 'standing', '2', 'to', '4.5', 'm', '(', '6', 'to', '15', 'ft', ')', 'tall', 'in', 'cultivation', 'and', 'up', 'to', '9', 'm', '(', '30', 'ft', ')', 'in', 'the', 'wild', '.'], ['when', 'cultivated', ',', 'the', 'size', ',', 'shape', 'and', 'branch', 'density', 'are', 'determined', 'by', 'rootstock', 'selection', 'and', 'trimming', 'method', '.'], ['the', 'leaves', 'are', 'alternately', 'arranged', 'dark', 'green-colored', 'simple', 'ovals', 'with', 'serrated', 'margins', 'and', 'slightly', 'downy', 'undersides', '.'], ['[', '5', ']'], ['blossoms', 'are', 'produced', 'in', 'spring', 'simultaneously', 'with', 'the', 'budding', 'of', 'the', 'leaves', 'and', 'are', 'produced', 'on', 'spurs', 'and', 'some', 'long', 'shoots', '.'], ['the', '3', 'to', '4', 'cm', '(', '1', 'to', '1+1⁄2', 'in', ')', 'flowers', 'are', 'white', 'with', 'a', 'pink', 'tinge', 'that', 'gradually', 'fades', ',', 'five', 'petaled', ',', 'with', 'an', 'inflorescence', 'consisting', 'of', 'a', 'cyme', 'with', '4–6', 'flowers', '.'], ['the', 'central', 'flower', 'of', 'the', 'inflorescence', 'is', 'called', 'the', '``', 'king', 'bloom', \"''\", ';', 'it', 'opens', 'first', 'and', 'can', 'develop', 'a', 'larger', 'fruit', '.'], ['[', '5', ']', '[', '6', ']'], ['the', 'fruit', 'is', 'a', 'pome', 'that', 'matures', 'in', 'late', 'summer', 'or', 'autumn', ',', 'and', 'cultivars', 'exist', 'in', 'a', 'wide', 'range', 'of', 'sizes', '.'], ['commercial', 'growers', 'aim', 'to', 'produce', 'an', 'apple', 'that', 'is', '7', 'to', '8.5', 'cm', '(', '2+3⁄4', 'to', '3+1⁄4', 'in', ')', 'in', 'diameter', ',', 'due', 'to', 'market', 'preference', '.'], ['some', 'consumers', ',', 'especially', 'those', 'in', 'japan', ',', 'prefer', 'a', 'larger', 'apple', ',', 'while', 'apples', 'below', '5.5', 'cm', '(', '2+1⁄4', 'in', ')', 'are', 'generally', 'used', 'for', 'making', 'juice', 'and', 'have', 'little', 'fresh', 'market', 'value', '.'], ['the', 'skin', 'of', 'ripe', 'apples', 'is', 'generally', 'red', ',', 'yellow', ',', 'green', ',', 'pink', ',', 'or', 'russetted', ',', 'though', 'many', 'bi-', 'or', 'tri-colored', 'cultivars', 'may', 'be', 'found', '.'], ['[', '7', ']', 'the', 'skin', 'may', 'also', 'be', 'wholly', 'or', 'partly', 'russeted', 'i.e', '.'], ['rough', 'and', 'brown', '.'], ['the', 'skin', 'is', 'covered', 'in', 'a', 'protective', 'layer', 'of', 'epicuticular', 'wax', '.'], ['[', '8', ']', 'the', 'exocarp', '(', 'flesh', ')', 'is', 'generally', 'pale', 'yellowish-white', ',', '[', '7', ']', 'though', 'pink', ',', 'yellow', 'or', 'green', 'exocarps', 'also', 'occur', '.'], ['[', '9', ']']]\n"
     ]
    }
   ],
   "source": [
    "from nltk.tokenize import word_tokenize\n",
    "gen_docs = [[w.lower() for w in word_tokenize(text)] \n",
    "            for text in list2]\n",
    "print(gen_docs)"
   ]
  },
  {
   "cell_type": "code",
   "execution_count": 19,
   "metadata": {},
   "outputs": [
    {
     "name": "stdout",
     "output_type": "stream",
     "text": [
      "by\n",
      "250\n",
      "Number of words in dictionary: 276\n",
      "0 (\n",
      "1 )\n",
      "2 .\n",
      "3 an\n",
      "4 apple\n",
      "5 by\n",
      "6 domestica\n",
      "7 edible\n",
      "8 fruit\n",
      "9 is\n",
      "10 malus\n",
      "11 produced\n",
      "12 tree\n",
      "13 and\n",
      "14 are\n",
      "15 cultivated\n",
      "16 genus\n",
      "17 grown\n",
      "18 in\n",
      "19 most\n",
      "20 species\n",
      "21 the\n",
      "22 trees\n",
      "23 widely\n",
      "24 worldwide\n",
      "25 ,\n",
      "26 ancestor\n",
      "27 asia\n",
      "28 central\n",
      "29 found\n",
      "30 its\n",
      "31 originated\n",
      "32 sieversii\n",
      "33 still\n",
      "34 today\n",
      "35 where\n",
      "36 wild\n",
      "37 america\n",
      "38 apples\n",
      "39 been\n",
      "40 brought\n",
      "41 colonists\n",
      "42 europe\n",
      "43 european\n",
      "44 for\n",
      "45 have\n",
      "46 north\n",
      "47 of\n",
      "48 thousands\n",
      "49 to\n",
      "50 were\n",
      "51 years\n",
      "52 christian\n",
      "53 cultures\n",
      "54 greek\n",
      "55 including\n",
      "56 many\n",
      "57 mythological\n",
      "58 norse\n",
      "59 religious\n",
      "60 significance\n",
      "61 tradition\n",
      "62 be\n",
      "63 characteristics\n",
      "64 desired\n",
      "65 different\n",
      "66 frequently\n",
      "67 from\n",
      "68 lack\n",
      "69 parents\n",
      "70 resultant\n",
      "71 seed\n",
      "72 tend\n",
      "73 those\n",
      "74 very\n",
      "75 clonal\n",
      "76 cultivars\n",
      "77 generally\n",
      "78 grafting\n",
      "79 onto\n",
      "80 propagated\n",
      "81 rootstocks\n",
      "82 then\n",
      "83 after\n",
      "84 larger\n",
      "85 much\n",
      "86 planting\n",
      "87 slower\n",
      "88 without\n",
      "89 allowing\n",
      "90 control\n",
      "91 easier\n",
      "92 growth\n",
      "93 harvesting\n",
      "94 resulting\n",
      "95 size\n",
      "96 speed\n",
      "97 used\n",
      "98 7,500\n",
      "99 known\n",
      "100 more\n",
      "101 than\n",
      "102 there\n",
      "103 bred\n",
      "104 cider\n",
      "105 cooking\n",
      "106 eating\n",
      "107 production\n",
      "108 raw\n",
      "109 tastes\n",
      "110 use\n",
      "111 various\n",
      "112 a\n",
      "113 bacterial\n",
      "114 can\n",
      "115 controlled\n",
      "116 fungal\n",
      "117 means\n",
      "118 non-organic\n",
      "119 number\n",
      "120 organic\n",
      "121 pest\n",
      "122 problems\n",
      "123 prone\n",
      "124 which\n",
      "125 's\n",
      "126 2010\n",
      "127 as\n",
      "128 breeding\n",
      "129 disease\n",
      "130 genome\n",
      "131 on\n",
      "132 part\n",
      "133 research\n",
      "134 selective\n",
      "135 sequenced\n",
      "136 was\n",
      "137 15\n",
      "138 2\n",
      "139 30\n",
      "140 4.5\n",
      "141 6\n",
      "142 9\n",
      "143 cultivation\n",
      "144 deciduous\n",
      "145 ft\n",
      "146 m\n",
      "147 standing\n",
      "148 tall\n",
      "149 up\n",
      "150 branch\n",
      "151 density\n",
      "152 determined\n",
      "153 method\n",
      "154 rootstock\n",
      "155 selection\n",
      "156 shape\n",
      "157 trimming\n",
      "158 when\n",
      "159 alternately\n",
      "160 arranged\n",
      "161 dark\n",
      "162 downy\n",
      "163 green-colored\n",
      "164 leaves\n",
      "165 margins\n",
      "166 ovals\n",
      "167 serrated\n",
      "168 simple\n",
      "169 slightly\n",
      "170 undersides\n",
      "171 with\n",
      "172 5\n",
      "173 [\n",
      "174 ]\n",
      "175 blossoms\n",
      "176 budding\n",
      "177 long\n",
      "178 shoots\n",
      "179 simultaneously\n",
      "180 some\n",
      "181 spring\n",
      "182 spurs\n",
      "183 1\n",
      "184 1+1⁄2\n",
      "185 3\n",
      "186 4\n",
      "187 4–6\n",
      "188 cm\n",
      "189 consisting\n",
      "190 cyme\n",
      "191 fades\n",
      "192 five\n",
      "193 flowers\n",
      "194 gradually\n",
      "195 inflorescence\n",
      "196 petaled\n",
      "197 pink\n",
      "198 that\n",
      "199 tinge\n",
      "200 white\n",
      "201 ''\n",
      "202 ;\n",
      "203 ``\n",
      "204 bloom\n",
      "205 called\n",
      "206 develop\n",
      "207 first\n",
      "208 flower\n",
      "209 it\n",
      "210 king\n",
      "211 opens\n",
      "212 autumn\n",
      "213 exist\n",
      "214 late\n",
      "215 matures\n",
      "216 or\n",
      "217 pome\n",
      "218 range\n",
      "219 sizes\n",
      "220 summer\n",
      "221 wide\n",
      "222 2+3⁄4\n",
      "223 3+1⁄4\n",
      "224 7\n",
      "225 8.5\n",
      "226 aim\n",
      "227 commercial\n",
      "228 diameter\n",
      "229 due\n",
      "230 growers\n",
      "231 market\n",
      "232 preference\n",
      "233 produce\n",
      "234 2+1⁄4\n",
      "235 5.5\n",
      "236 below\n",
      "237 consumers\n",
      "238 especially\n",
      "239 fresh\n",
      "240 japan\n",
      "241 juice\n",
      "242 little\n",
      "243 making\n",
      "244 prefer\n",
      "245 value\n",
      "246 while\n",
      "247 bi-\n",
      "248 green\n",
      "249 may\n",
      "250 red\n",
      "251 ripe\n",
      "252 russetted\n",
      "253 skin\n",
      "254 though\n",
      "255 tri-colored\n",
      "256 yellow\n",
      "257 also\n",
      "258 i.e\n",
      "259 partly\n",
      "260 russeted\n",
      "261 wholly\n",
      "262 brown\n",
      "263 rough\n",
      "264 covered\n",
      "265 epicuticular\n",
      "266 layer\n",
      "267 protective\n",
      "268 wax\n",
      "269 8\n",
      "270 exocarp\n",
      "271 exocarps\n",
      "272 flesh\n",
      "273 occur\n",
      "274 pale\n",
      "275 yellowish-white\n"
     ]
    }
   ],
   "source": [
    "dictionary = gensim.corpora.Dictionary(gen_docs)\n",
    "print(dictionary[5])\n",
    "print(dictionary.token2id['red'])\n",
    "print(\"Number of words in dictionary:\",len(dictionary))\n",
    "for i in range(len(dictionary)):\n",
    "    print(i, dictionary[i])"
   ]
  },
  {
   "cell_type": "code",
   "execution_count": 20,
   "metadata": {},
   "outputs": [
    {
     "name": "stdout",
     "output_type": "stream",
     "text": [
      "[[(0, 1), (1, 1), (2, 1), (3, 3), (4, 2), (5, 1), (6, 1), (7, 1), (8, 1), (9, 1), (10, 1), (11, 1), (12, 1)], [(2, 1), (4, 1), (10, 1), (13, 1), (14, 2), (15, 1), (16, 1), (17, 1), (18, 1), (19, 1), (20, 1), (21, 2), (22, 1), (23, 1), (24, 1)], [(2, 1), (9, 1), (10, 1), (12, 1), (18, 1), (21, 1), (25, 3), (26, 1), (27, 1), (28, 1), (29, 1), (30, 1), (31, 1), (32, 1), (33, 1), (34, 1), (35, 1), (36, 1)], [(2, 1), (5, 1), (13, 2), (17, 1), (18, 1), (27, 1), (37, 1), (38, 1), (39, 1), (40, 1), (41, 1), (42, 1), (43, 1), (44, 1), (45, 1), (46, 1), (47, 1), (48, 1), (49, 1), (50, 1), (51, 1)], [(2, 1), (13, 2), (18, 1), (25, 3), (38, 1), (43, 1), (45, 1), (52, 1), (53, 1), (54, 1), (55, 1), (56, 1), (57, 1), (58, 1), (59, 1), (60, 1), (61, 1)], [(2, 1), (8, 1), (13, 1), (17, 1), (21, 2), (25, 1), (38, 1), (47, 1), (49, 1), (62, 1), (63, 1), (64, 1), (65, 1), (66, 1), (67, 2), (68, 1), (69, 1), (70, 1), (71, 1), (72, 1), (73, 1), (74, 1)], [(2, 1), (4, 1), (5, 1), (14, 1), (25, 1), (75, 1), (76, 1), (77, 1), (78, 1), (79, 1), (80, 1), (81, 1), (82, 1)], [(2, 1), (4, 1), (8, 1), (13, 1), (17, 1), (22, 1), (49, 2), (62, 1), (72, 1), (81, 1), (83, 1), (84, 1), (85, 1), (86, 1), (87, 1), (88, 1)], [(2, 1), (12, 1), (13, 1), (14, 1), (21, 2), (44, 1), (47, 2), (49, 1), (81, 1), (89, 1), (90, 1), (91, 1), (92, 1), (93, 1), (94, 1), (95, 1), (96, 1), (97, 1)], [(2, 1), (14, 1), (38, 1), (47, 1), (76, 1), (98, 1), (99, 1), (100, 1), (101, 1), (102, 1)], [(2, 1), (13, 2), (14, 1), (25, 2), (44, 1), (55, 1), (65, 1), (76, 1), (103, 1), (104, 1), (105, 1), (106, 1), (107, 1), (108, 1), (109, 1), (110, 1), (111, 1)], [(2, 1), (5, 1), (8, 1), (13, 3), (14, 1), (22, 1), (25, 2), (47, 2), (49, 1), (62, 1), (112, 2), (113, 1), (114, 1), (115, 1), (116, 1), (117, 1), (118, 1), (119, 2), (120, 1), (121, 1), (122, 1), (123, 1), (124, 1)], [(2, 1), (4, 1), (8, 1), (13, 1), (18, 2), (21, 1), (25, 1), (47, 1), (90, 1), (107, 1), (125, 1), (126, 1), (127, 1), (128, 1), (129, 1), (130, 1), (131, 1), (132, 1), (133, 1), (134, 1), (135, 1), (136, 1)], [(0, 2), (1, 2), (2, 1), (4, 1), (9, 1), (12, 1), (13, 1), (18, 2), (21, 2), (25, 1), (36, 1), (49, 3), (77, 1), (112, 1), (137, 1), (138, 1), (139, 1), (140, 1), (141, 1), (142, 1), (143, 1), (144, 1), (145, 2), (146, 2), (147, 1), (148, 1), (149, 1)], [(2, 1), (5, 1), (13, 2), (14, 1), (15, 1), (21, 1), (25, 2), (95, 1), (150, 1), (151, 1), (152, 1), (153, 1), (154, 1), (155, 1), (156, 1), (157, 1), (158, 1)], [(2, 1), (13, 1), (14, 1), (21, 1), (159, 1), (160, 1), (161, 1), (162, 1), (163, 1), (164, 1), (165, 1), (166, 1), (167, 1), (168, 1), (169, 1), (170, 1), (171, 1)], [(172, 1), (173, 1), (174, 1)], [(2, 1), (11, 2), (13, 2), (14, 2), (18, 1), (21, 2), (47, 1), (131, 1), (164, 1), (171, 1), (175, 1), (176, 1), (177, 1), (178, 1), (179, 1), (180, 1), (181, 1), (182, 1)], [(0, 1), (1, 1), (2, 1), (3, 1), (14, 1), (18, 1), (21, 1), (25, 2), (47, 1), (49, 2), (112, 2), (171, 3), (183, 1), (184, 1), (185, 1), (186, 1), (187, 1), (188, 1), (189, 1), (190, 1), (191, 1), (192, 1), (193, 2), (194, 1), (195, 1), (196, 1), (197, 1), (198, 1), (199, 1), (200, 1)], [(2, 1), (8, 1), (9, 1), (13, 1), (21, 3), (28, 1), (47, 1), (84, 1), (112, 1), (114, 1), (195, 1), (201, 1), (202, 1), (203, 1), (204, 1), (205, 1), (206, 1), (207, 1), (208, 1), (209, 1), (210, 1), (211, 1)], [(141, 1), (172, 1), (173, 2), (174, 2)], [(2, 1), (8, 1), (9, 1), (13, 1), (18, 2), (21, 1), (25, 1), (47, 1), (76, 1), (112, 2), (198, 1), (212, 1), (213, 1), (214, 1), (215, 1), (216, 1), (217, 1), (218, 1), (219, 1), (220, 1), (221, 1)], [(0, 1), (1, 1), (2, 1), (3, 1), (4, 1), (9, 1), (18, 2), (25, 1), (49, 4), (188, 1), (198, 1), (222, 1), (223, 1), (224, 1), (225, 1), (226, 1), (227, 1), (228, 1), (229, 1), (230, 1), (231, 1), (232, 1), (233, 1)], [(0, 1), (1, 1), (2, 1), (4, 1), (13, 1), (14, 1), (18, 2), (25, 3), (38, 1), (44, 1), (45, 1), (73, 1), (77, 1), (84, 1), (97, 1), (112, 1), (180, 1), (188, 1), (231, 1), (234, 1), (235, 1), (236, 1), (237, 1), (238, 1), (239, 1), (240, 1), (241, 1), (242, 1), (243, 1), (244, 1), (245, 1), (246, 1)], [(2, 1), (9, 1), (21, 1), (25, 5), (29, 1), (38, 1), (47, 1), (56, 1), (62, 1), (76, 1), (77, 1), (197, 1), (216, 2), (247, 1), (248, 1), (249, 1), (250, 1), (251, 1), (252, 1), (253, 1), (254, 1), (255, 1), (256, 1)], [(2, 1), (21, 1), (62, 1), (173, 1), (174, 1), (216, 1), (224, 1), (249, 1), (253, 1), (257, 1), (258, 1), (259, 1), (260, 1), (261, 1)], [(2, 1), (13, 1), (262, 1), (263, 1)], [(2, 1), (9, 1), (18, 1), (21, 1), (47, 1), (112, 1), (253, 1), (264, 1), (265, 1), (266, 1), (267, 1), (268, 1)], [(0, 1), (1, 1), (2, 1), (9, 1), (21, 1), (25, 2), (77, 1), (173, 2), (174, 2), (197, 1), (216, 1), (224, 1), (248, 1), (254, 1), (256, 1), (257, 1), (269, 1), (270, 1), (271, 1), (272, 1), (273, 1), (274, 1), (275, 1)], [(142, 1), (173, 1), (174, 1)]]\n"
     ]
    }
   ],
   "source": [
    "corpus = [dictionary.doc2bow(gen_doc) for gen_doc in gen_docs]\n",
    "print(corpus)"
   ]
  },
  {
   "cell_type": "code",
   "execution_count": 21,
   "metadata": {},
   "outputs": [
    {
     "name": "stdout",
     "output_type": "stream",
     "text": [
      "TfidfModel(num_docs=30, num_nnz=518)\n",
      "518\n"
     ]
    }
   ],
   "source": [
    "tf_idf = gensim.models.TfidfModel(corpus)\n",
    "print(tf_idf)\n",
    "s = 0\n",
    "for i in corpus:\n",
    "    s += len(i)\n",
    "print(s)"
   ]
  },
  {
   "cell_type": "code",
   "execution_count": 33,
   "metadata": {},
   "outputs": [
    {
     "name": "stdout",
     "output_type": "stream",
     "text": [
      "Similarity index with 30 documents in 0 shards (stored under Documents)\n",
      "<class 'gensim.similarities.docsim.Similarity'>\n"
     ]
    }
   ],
   "source": [
    "sims = gensim.similarities.Similarity('Documents',tf_idf[corpus],\n",
    "                                      num_features=len(dictionary))\n",
    "print(sims)\n",
    "print(type(sims))"
   ]
  },
  {
   "cell_type": "code",
   "execution_count": 28,
   "metadata": {},
   "outputs": [],
   "source": [
    "#query doc"
   ]
  },
  {
   "cell_type": "code",
   "execution_count": 29,
   "metadata": {},
   "outputs": [
    {
     "name": "stdout",
     "output_type": "stream",
     "text": [
      "['red', 'is', 'my', 'favorite', 'color']\n",
      "[(9, 1), (250, 1)]\n",
      "[(9, 0.33369495854225995), (250, 0.9426811097308991)]\n"
     ]
    }
   ],
   "source": [
    "query_doc = [w.lower() for w in word_tokenize(\"red is my favorite color\")]\n",
    "print(query_doc)\n",
    "query_doc_bow = dictionary.doc2bow(query_doc)\n",
    "print(query_doc_bow)\n",
    "query_doc_tf_idf = tf_idf[query_doc_bow]\n",
    "print(query_doc_tf_idf)"
   ]
  },
  {
   "cell_type": "code",
   "execution_count": 34,
   "metadata": {},
   "outputs": [
    {
     "data": {
      "text/plain": [
       "array([0.03892949, 0.        , 0.03569366, 0.        , 0.        ,\n",
       "       0.        , 0.        , 0.        , 0.        , 0.        ,\n",
       "       0.        , 0.        , 0.        , 0.02429592, 0.        ,\n",
       "       0.        , 0.        , 0.        , 0.        , 0.03128008,\n",
       "       0.        , 0.03468973, 0.02958579, 0.        , 0.28923023,\n",
       "       0.        , 0.        , 0.04843803, 0.031485  , 0.        ],\n",
       "      dtype=float32)"
      ]
     },
     "execution_count": 34,
     "metadata": {},
     "output_type": "execute_result"
    }
   ],
   "source": [
    "sims[query_doc_tf_idf]"
   ]
  },
  {
   "cell_type": "code",
   "execution_count": null,
   "metadata": {},
   "outputs": [],
   "source": []
  }
 ],
 "metadata": {
  "kernelspec": {
   "display_name": "Python 3",
   "language": "python",
   "name": "python3"
  },
  "language_info": {
   "codemirror_mode": {
    "name": "ipython",
    "version": 3
   },
   "file_extension": ".py",
   "mimetype": "text/x-python",
   "name": "python",
   "nbconvert_exporter": "python",
   "pygments_lexer": "ipython3",
   "version": "3.7.9"
  }
 },
 "nbformat": 4,
 "nbformat_minor": 4
}
